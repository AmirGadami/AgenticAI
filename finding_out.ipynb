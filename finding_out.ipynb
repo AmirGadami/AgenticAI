{
 "cells": [
  {
   "cell_type": "code",
   "execution_count": 1,
   "id": "34ba6b94",
   "metadata": {},
   "outputs": [],
   "source": [
    "import os \n",
    "import modal\n",
    "# from price_service import Pricer,app"
   ]
  },
  {
   "cell_type": "code",
   "execution_count": 2,
   "id": "3e3a5c5d",
   "metadata": {},
   "outputs": [
    {
     "name": "stdout",
     "output_type": "stream",
     "text": [
      "\u001b[33m╭─\u001b[0m\u001b[33m Modal Deprecation Warning (2025-01-15) \u001b[0m\u001b[33m────────────────────────────────────\u001b[0m\u001b[33m─╮\u001b[0m\n",
      "\u001b[33m│\u001b[0m The `@modal.build` decorator is deprecated and will be removed in a future   \u001b[33m│\u001b[0m\n",
      "\u001b[33m│\u001b[0m release.                                                                     \u001b[33m│\u001b[0m\n",
      "\u001b[33m│\u001b[0m                                                                              \u001b[33m│\u001b[0m\n",
      "\u001b[33m│\u001b[0m We now recommend storing large assets (such as model weights) using a        \u001b[33m│\u001b[0m\n",
      "\u001b[33m│\u001b[0m `modal.Volume` instead of writing them directly into the `modal.Image`       \u001b[33m│\u001b[0m\n",
      "\u001b[33m│\u001b[0m filesystem. For other use cases we recommend using `Image.run_function`      \u001b[33m│\u001b[0m\n",
      "\u001b[33m│\u001b[0m instead.                                                                     \u001b[33m│\u001b[0m\n",
      "\u001b[33m│\u001b[0m                                                                              \u001b[33m│\u001b[0m\n",
      "\u001b[33m│\u001b[0m See https://modal.com/docs/guide/modal-1-0-migration for more information.   \u001b[33m│\u001b[0m\n",
      "\u001b[33m│\u001b[0m                                                                              \u001b[33m│\u001b[0m\n",
      "\u001b[33m│\u001b[0m Source: /Users/amir/Desktop/GitHub/AgenticAI/price_service.py:34             \u001b[33m│\u001b[0m\n",
      "\u001b[33m│\u001b[0m   @modal.build()                                                             \u001b[33m│\u001b[0m\n",
      "\u001b[33m╰──────────────────────────────────────────────────────────────────────────────╯\u001b[0m\n",
      "\u001b[2K\u001b[34m⠸\u001b[0m Creating objects.....\n",
      "\u001b[37m├── \u001b[0m🔨 Created mount /Users/amir/Desktop/GitHub/AgenticAI/price_service.py\n",
      "\u001b[2K\u001b[1A\u001b[2K\u001b[1A\u001b[2K\u001b[34m⠦\u001b[0m Creating objects...ownload_model_to_folder...\n",
      "\u001b[37m├── \u001b[0m🔨 Created mount /Users/amir/Desktop/GitHub/AgenticAI/price_service.py\n",
      "\u001b[37m├── \u001b[0m🔨 Created function Pricer.download_model_to_folder.\n",
      "\u001b[2K\u001b[1A\u001b[2K\u001b[1A\u001b[2K\u001b[1A\u001b[2K\u001b[34m⠦\u001b[0m Creating objects...\n",
      "\u001b[37m├── \u001b[0m🔨 Created mount /Users/amir/Desktop/GitHub/AgenticAI/price_service.py\n",
      "\u001b[37m├── \u001b[0m🔨 Created function Pricer.download_model_to_folder.\n",
      "\u001b[37m└── \u001b[0m🔨 Created function Pricer.*.\n",
      "\u001b[1A\u001b[2K\u001b[1A\u001b[2K\u001b[1A\u001b[2K\u001b[1A\u001b[2K\u001b[32m✓\u001b[0m Created objects.\n",
      "\u001b[37m├── \u001b[0m🔨 Created mount /Users/amir/Desktop/GitHub/AgenticAI/price_service.py\n",
      "\u001b[37m├── \u001b[0m🔨 Created function Pricer.download_model_to_folder.\n",
      "\u001b[37m└── \u001b[0m🔨 Created function Pricer.*.\n",
      "\u001b[32m✓\u001b[0m App deployed in 0.855s! 🎉\n",
      "\n",
      "View Deployment: \u001b[35mhttps://modal.com/apps/ah-ghadami75/main/deployed/price-service\u001b[0m\n"
     ]
    }
   ],
   "source": [
    "!modal deploy price_service.py"
   ]
  },
  {
   "cell_type": "code",
   "execution_count": 4,
   "id": "baa2a328",
   "metadata": {},
   "outputs": [
    {
     "name": "stderr",
     "output_type": "stream",
     "text": [
      "/opt/anaconda3/envs/llms/lib/python3.11/asyncio/events.py:84: DeprecationError: 2025-01-27: `modal.Cls.lookup` is deprecated and will be removed in a future release. It can be replaced with `modal.Cls.from_name`.\n",
      "\n",
      "See https://modal.com/docs/guide/modal-1-0-migration for more information.\n",
      "  self._context.run(self._callback, *self._args)\n"
     ]
    },
    {
     "data": {
      "text/plain": [
       "299.0"
      ]
     },
     "execution_count": 4,
     "metadata": {},
     "output_type": "execute_result"
    }
   ],
   "source": [
    "from agents.price_agent import SpecialistAgent\n",
    "\n",
    "agent = SpecialistAgent()\n",
    "agent.price(\"Ipad pro 15\")"
   ]
  },
  {
   "cell_type": "code",
   "execution_count": null,
   "id": "5018de59",
   "metadata": {},
   "outputs": [],
   "source": []
  }
 ],
 "metadata": {
  "kernelspec": {
   "display_name": "llms",
   "language": "python",
   "name": "python3"
  },
  "language_info": {
   "codemirror_mode": {
    "name": "ipython",
    "version": 3
   },
   "file_extension": ".py",
   "mimetype": "text/x-python",
   "name": "python",
   "nbconvert_exporter": "python",
   "pygments_lexer": "ipython3",
   "version": "3.11.11"
  }
 },
 "nbformat": 4,
 "nbformat_minor": 5
}
