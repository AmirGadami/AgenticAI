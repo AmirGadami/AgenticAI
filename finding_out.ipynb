{
 "cells": [
  {
   "cell_type": "code",
   "execution_count": 8,
   "id": "34ba6b94",
   "metadata": {},
   "outputs": [],
   "source": [
    "import os \n",
    "import modal\n",
    "import re\n",
    "import math\n",
    "import json\n",
    "from tqdm import tqdm\n",
    "import random\n",
    "from dotenv import load_dotenv\n",
    "from huggingface_hub import login\n",
    "from data import items\n",
    "import chromadb\n",
    "import pickle\n",
    "import sys\n",
    "from sentence_transformers import SentenceTransformer\n",
    "from openai import OpenAI\n",
    "import pandas as pd\n",
    "import numpy as np\n",
    "from sklearn.ensemble import RandomForestRegressor\n",
    "from sklearn.linear_model import LinearRegression\n",
    "from sklearn.metrics import mean_squared_error, r2_score\n",
    "import joblib"
   ]
  },
  {
   "cell_type": "code",
   "execution_count": 9,
   "id": "ba182029",
   "metadata": {},
   "outputs": [],
   "source": [
    "openai = OpenAI()"
   ]
  },
  {
   "cell_type": "code",
   "execution_count": 10,
   "id": "cc2c7efd",
   "metadata": {},
   "outputs": [],
   "source": [
    "sys.path.append(os.path.abspath(\"data\"))\n",
    "with open('data/train.pkl', 'rb') as file:\n",
    "    train = pickle.load(file)\n",
    "\n",
    "with open('data/test.pkl', 'rb') as file:\n",
    "    test = pickle.load(file)\n"
   ]
  },
  {
   "cell_type": "code",
   "execution_count": 11,
   "id": "5038fc81",
   "metadata": {},
   "outputs": [
    {
     "name": "stderr",
     "output_type": "stream",
     "text": [
      "Note: Environment variable`HF_TOKEN` is set and is the current active token independently from the token you've just configured.\n"
     ]
    }
   ],
   "source": [
    "load_dotenv(override=True)\n",
    "os.environ['OPENAI_API_KEY'] = os.getenv('OPENAI_API_KEY')\n",
    "os.environ['HF_TOKEN'] = os.getenv('HF_TOKEN')\n",
    "DB = \"products_vectorstore\"\n",
    "\n",
    "hf_token = os.environ['HF_TOKEN']\n",
    "login(hf_token, add_to_git_credential=True)\n"
   ]
  },
  {
   "cell_type": "code",
   "execution_count": 5,
   "id": "3e3a5c5d",
   "metadata": {},
   "outputs": [
    {
     "name": "stdout",
     "output_type": "stream",
     "text": [
      "\u001b[33m╭─\u001b[0m\u001b[33m Modal Deprecation Warning (2025-01-15) \u001b[0m\u001b[33m────────────────────────────────────\u001b[0m\u001b[33m─╮\u001b[0m\n",
      "\u001b[33m│\u001b[0m The `@modal.build` decorator is deprecated and will be removed in a future   \u001b[33m│\u001b[0m\n",
      "\u001b[33m│\u001b[0m release.                                                                     \u001b[33m│\u001b[0m\n",
      "\u001b[33m│\u001b[0m                                                                              \u001b[33m│\u001b[0m\n",
      "\u001b[33m│\u001b[0m We now recommend storing large assets (such as model weights) using a        \u001b[33m│\u001b[0m\n",
      "\u001b[33m│\u001b[0m `modal.Volume` instead of writing them directly into the `modal.Image`       \u001b[33m│\u001b[0m\n",
      "\u001b[33m│\u001b[0m filesystem. For other use cases we recommend using `Image.run_function`      \u001b[33m│\u001b[0m\n",
      "\u001b[33m│\u001b[0m instead.                                                                     \u001b[33m│\u001b[0m\n",
      "\u001b[33m│\u001b[0m                                                                              \u001b[33m│\u001b[0m\n",
      "\u001b[33m│\u001b[0m See https://modal.com/docs/guide/modal-1-0-migration for more information.   \u001b[33m│\u001b[0m\n",
      "\u001b[33m│\u001b[0m                                                                              \u001b[33m│\u001b[0m\n",
      "\u001b[33m│\u001b[0m Source: /Users/amir/Desktop/GitHub/AgenticAI/price_service.py:34             \u001b[33m│\u001b[0m\n",
      "\u001b[33m│\u001b[0m   @modal.build()                                                             \u001b[33m│\u001b[0m\n",
      "\u001b[33m╰──────────────────────────────────────────────────────────────────────────────╯\u001b[0m\n",
      "\u001b[2K\u001b[34m⠸\u001b[0m Creating objects.....\n",
      "\u001b[37m├── \u001b[0m🔨 Created mount /Users/amir/Desktop/GitHub/AgenticAI/price_service.py\n",
      "\u001b[2K\u001b[1A\u001b[2K\u001b[1A\u001b[2K\u001b[34m⠴\u001b[0m Creating objects...odel_to_folder.\n",
      "\u001b[37m├── \u001b[0m🔨 Created mount /Users/amir/Desktop/GitHub/AgenticAI/price_service.py\n",
      "\u001b[37m├── \u001b[0m🔨 Created function Pricer.download_model_to_folder.\n",
      "\u001b[37m└── \u001b[0m🔨 Created function Pricer.*.\n",
      "\u001b[1A\u001b[2K\u001b[1A\u001b[2K\u001b[1A\u001b[2K\u001b[1A\u001b[2K\u001b[32m✓\u001b[0m Created objects.\n",
      "\u001b[37m├── \u001b[0m🔨 Created mount /Users/amir/Desktop/GitHub/AgenticAI/price_service.py\n",
      "\u001b[37m├── \u001b[0m🔨 Created function Pricer.download_model_to_folder.\n",
      "\u001b[37m└── \u001b[0m🔨 Created function Pricer.*.\n",
      "\u001b[32m✓\u001b[0m App deployed in 0.677s! 🎉\n",
      "\n",
      "View Deployment: \u001b[35mhttps://modal.com/apps/ah-ghadami75/main/deployed/price-service\u001b[0m\n"
     ]
    }
   ],
   "source": [
    "!modal deploy price_service.py"
   ]
  },
  {
   "cell_type": "code",
   "execution_count": 12,
   "id": "9a216b31",
   "metadata": {},
   "outputs": [],
   "source": [
    "client = chromadb.PersistentClient(path=DB)\n",
    "collection = client.get_or_create_collection('products')\n"
   ]
  },
  {
   "cell_type": "code",
   "execution_count": 14,
   "id": "5018de59",
   "metadata": {},
   "outputs": [],
   "source": [
    "model = SentenceTransformer(\"sentence-transformers/all-MiniLM-L6-v2\")"
   ]
  },
  {
   "cell_type": "code",
   "execution_count": 24,
   "id": "3d39ff92",
   "metadata": {},
   "outputs": [],
   "source": [
    "def description(item):\n",
    "    text = item.prompt.replace(\"How much does this cost to the nearest dollar?\\n\\n\",\"\")\n",
    "    return text.split(\"\\n\\nPrice is $\")[0]"
   ]
  },
  {
   "cell_type": "code",
   "execution_count": 12,
   "id": "2ce79292",
   "metadata": {},
   "outputs": [
    {
     "name": "stderr",
     "output_type": "stream",
     "text": [
      "100%|██████████| 400/400 [14:23<00:00,  2.16s/it]\n"
     ]
    }
   ],
   "source": [
    "for i in tqdm(range(0,len(train),1000)):\n",
    "    documents = [description(item) for item in train[i:i+1000]]\n",
    "    vectors = model.encode(documents)\n",
    "    metadata = [{'category': item.category, 'price':item.price} for item in train[i:i+1000]]\n",
    "    ids = [ f\"doc_{j}\" for j in range(i,i+1000)]\n",
    "    collection.add(\n",
    "        ids = ids,\n",
    "        documents=documents,\n",
    "        embeddings=vectors,\n",
    "        metadatas=metadata\n",
    "    )"
   ]
  },
  {
   "cell_type": "code",
   "execution_count": 13,
   "id": "d667434f",
   "metadata": {},
   "outputs": [
    {
     "data": {
      "text/plain": [
       "400000"
      ]
     },
     "execution_count": 13,
     "metadata": {},
     "output_type": "execute_result"
    }
   ],
   "source": [
    "collection.count()"
   ]
  },
  {
   "cell_type": "code",
   "execution_count": 10,
   "id": "8b932b48",
   "metadata": {},
   "outputs": [],
   "source": [
    "def make_context(similars, prices):\n",
    "    message = \"To provide some context, here are some other items that might be similar to the item you need to estimate.\\n\\n\"\n",
    "    for similar, price in zip(similars, prices):\n",
    "        message += f\"Potentially related product:\\n{similar}\\nPrice is ${price:.2f}\\n\\n\"\n",
    "    return message"
   ]
  },
  {
   "cell_type": "code",
   "execution_count": 11,
   "id": "36155e5f",
   "metadata": {},
   "outputs": [],
   "source": [
    "def vector(item):\n",
    "    return model.encode([description(item)])"
   ]
  },
  {
   "cell_type": "code",
   "execution_count": 12,
   "id": "61e88844",
   "metadata": {},
   "outputs": [],
   "source": [
    "def find_similars(item):\n",
    "    results = collection.query(query_embeddings=vector(item).astype(float).tolist(),n_results=5)\n",
    "    documents = results['documents'][0][:]\n",
    "    prices = [m['price'] for m in results['metadatas'][0][:]]\n",
    "    return documents,prices"
   ]
  },
  {
   "cell_type": "code",
   "execution_count": 15,
   "id": "5f5e8830",
   "metadata": {},
   "outputs": [],
   "source": [
    "documents, prices = find_similars(test[10])"
   ]
  },
  {
   "cell_type": "code",
   "execution_count": 16,
   "id": "f1b8c337",
   "metadata": {},
   "outputs": [
    {
     "name": "stdout",
     "output_type": "stream",
     "text": [
      "To provide some context, here are some other items that might be similar to the item you need to estimate.\n",
      "\n",
      "Potentially related product:\n",
      "Viking Horns On-Board AIR System with 1/2 Air Hose & Electric Solenoid, 5 Gallon Air Tank and 200 PSI Air Compressor Kit, for Train Air Horns\n",
      "Viking Horns 5 gallon Air Tank & 200 PSI H.D Air Compressor Kit. For high pressure air horns systems that require an on-board air system. Air tank made from heavy gauge steel for outdoor use. Made to hold up to 250 psi air pressure. Comes with psi air gauge, psi air pressure switch, compression fittings for 1/2 O.D air hose, air pressure release valve, 1/2 heavy duty electric air valve solenoid, 1/2 high pressure air hose, 200 PSI Heavy Duty 100% duty cycle air\n",
      "Price is $298.65\n",
      "\n",
      "Potentially related product:\n",
      "Viking Horns Loud Sound 149 Decibels Train Air Horn Kit with 1 Gallon Air Tank\n",
      "Viking Horns brand, Air Tank & 12 volt Compressor air supply system. This Air kit is designed for use with any high-pressure Air Horns that require an on-board air system. Comes with 1 gallon (3 liter) air tank, 150 psi heavy duty compressor, air pressure gauge and pressure switch, hose and mounting hardware. This is truly a great quality product you can count on. Ideal for SUV, Truck, RV, Marine and many more applications. Air tank/compressor dimensions 19-3/4 L x 6-1/2 H x 5 W. Air horn dimensions L 15 x W 11 x H 4-\n",
      "Price is $218.42\n",
      "\n",
      "Potentially related product:\n",
      "Viking Horns V3305 1.5 Gallon Air Tank & air Compressor Kit, On-Board Air System For Train Air Horn\n",
      "New 1.5 gallon air tank & 150 psi air Compressor kit, air supply system. This kit is designed for use with any high-pressure Air Horns that require an on-board air system. Comes with 1.5 Gallon (6 liter) air tank, heavy duty air compressor, air pressure gauge, air pressure switch, hose and mounting hardware, and fittings. Air Compressor can be removed from air tank for tight space installations (if required), and can be installed along side the air tank. This is truly a great quality product you can count on. Ideal for SUV, Truck, RV, Marine, suspension,\n",
      "Price is $187.87\n",
      "\n",
      "Potentially related product:\n",
      "Viking Horns Loud Train Air Horn Kit\n",
      "Hi-Powered 3 Trumpet Train Air Horn And Compressor/Tank kit. Horn system produces a High Powered Sound of 152 decibels. Trumpets are chrome plated metal. Will replace your original horn, or can be installed as an auxiliary horn. Comes with a 3 gallon air tank and 12 volt 200 PSI heavy duty maintenance free compressor. Includes Mounting Hardware, Brass Fittings, Air Tube, Air Valve, 240 PSI Air gauge, 200 PSI Pressure Switch, installation instructions. Ideal for vehicles such as Truck, RV, SUV. Sound output 152 decibels 12 volt 200 psi H.D air compressor 3 gallon air tank (12 liter) 3 trumpet, metal chrome plated air horn\n",
      "Price is $408.26\n",
      "\n",
      "Potentially related product:\n",
      "Viking Horns | Loud 149 dB | Train Air Horn Kit | Black Three Trumpet Air Horn | 1.5 Gallon Air Tank | 150 PSI Heavy Duty Air Compressor |\n",
      "Loud 149 Decibels Train Sound Air Horn. Entirely made of metal, in black color. Comes with a 1.5 (6 liter) air tank, 150 PSI 12 volt Heavy Duty Air compressor, 240 PSI air pressure gauge, PSI air pressure switch, mounting hardware, hose, fittings, instructions, and a FREE horn button. This horn will produce a loud sound that will surely get anybody's attention around you. Great for SUV's, trucks, RV's, pick-ups, boats, and more applications. Horn trumpets dimensions 12. Air compressor size\n",
      "Price is $279.95\n",
      "\n",
      "\n"
     ]
    }
   ],
   "source": [
    "print(make_context(documents, prices))"
   ]
  },
  {
   "cell_type": "code",
   "execution_count": 17,
   "id": "8d7c15bb",
   "metadata": {},
   "outputs": [],
   "source": [
    "def get_price(s):\n",
    "    s = s.replace('$','').replace(',','')\n",
    "    match = re.search(r\"[-+]?\\d*\\.\\d+|\\d+\", s)\n",
    "    return float(match.group()) if match else 0"
   ]
  },
  {
   "cell_type": "code",
   "execution_count": 18,
   "id": "c021e15e",
   "metadata": {},
   "outputs": [],
   "source": [
    "def messages_for(item, similars, prices):\n",
    "    system_message = \"You estimate prices of items. Reply only with the price, no explanation\"\n",
    "    user_prompt = make_context(similars, prices)\n",
    "    user_prompt += \"And now the question for you:\\n\\n\"\n",
    "    user_prompt += item.test_prompt().replace(\" to the nearest dollat\", \"\").replace(\"\\n\\nPrice is $\",\"\")\n",
    "    return [\n",
    "        {\"role\": \"system\", \"content\": system_message},\n",
    "        {\"role\": \"user\", \"content\": user_prompt},\n",
    "        {\"role\": \"assistant\", \"content\": \"Price is $\"}\n",
    "    ]\n",
    "\n"
   ]
  },
  {
   "cell_type": "code",
   "execution_count": 19,
   "id": "278c2809",
   "metadata": {},
   "outputs": [
    {
     "name": "stdout",
     "output_type": "stream",
     "text": [
      "How much does this cost to the nearest dollar?\n",
      "\n",
      "PG Engine Air Filter | Fits Chevrolet Camaro\n",
      "SUPERIOR ENGINE PROTECTION – Premium Guard Air Filters filter out 99% of incoming engine air to help extend the life of your engine. ENHANCED PERFORMANCE – High-capacity air filter media removes dangerous particles improving engine performance and increasing engine efficiency. EASY TO INSTALL - Premium Guard Air Filters are engineered to fit perfectly inside your vehicle’s housing for quick and easy installation. Compatible with Chevrolet Camaro. Precisely designed, engineered, and tested to meet and exceed all GENERAL MOTORS OE air filter requirements. Replaces GENERAL MOTORS Air Filter. Always check fitment using the Vehicle Filter Manufacturer Premium Guard, Brand Premium Guard, Weight 1.12 pounds, Dimensions 12.1 x 10.6 x 2.1 inches\n",
      "\n",
      "Price is $\n"
     ]
    }
   ],
   "source": [
    "print(train[10].test_prompt())"
   ]
  },
  {
   "cell_type": "code",
   "execution_count": 20,
   "id": "70f72da1",
   "metadata": {},
   "outputs": [
    {
     "name": "stdout",
     "output_type": "stream",
     "text": [
      "To provide some context, here are some other items that might be similar to the item you need to estimate.\n",
      "\n",
      "Potentially related product:\n",
      "Viking Horns On-Board AIR System with 1/2 Air Hose & Electric Solenoid, 5 Gallon Air Tank and 200 PSI Air Compressor Kit, for Train Air Horns\n",
      "Viking Horns 5 gallon Air Tank & 200 PSI H.D Air Compressor Kit. For high pressure air horns systems that require an on-board air system. Air tank made from heavy gauge steel for outdoor use. Made to hold up to 250 psi air pressure. Comes with psi air gauge, psi air pressure switch, compression fittings for 1/2 O.D air hose, air pressure release valve, 1/2 heavy duty electric air valve solenoid, 1/2 high pressure air hose, 200 PSI Heavy Duty 100% duty cycle air\n",
      "Price is $298.65\n",
      "\n",
      "Potentially related product:\n",
      "Viking Horns Loud Sound 149 Decibels Train Air Horn Kit with 1 Gallon Air Tank\n",
      "Viking Horns brand, Air Tank & 12 volt Compressor air supply system. This Air kit is designed for use with any high-pressure Air Horns that require an on-board air system. Comes with 1 gallon (3 liter) air tank, 150 psi heavy duty compressor, air pressure gauge and pressure switch, hose and mounting hardware. This is truly a great quality product you can count on. Ideal for SUV, Truck, RV, Marine and many more applications. Air tank/compressor dimensions 19-3/4 L x 6-1/2 H x 5 W. Air horn dimensions L 15 x W 11 x H 4-\n",
      "Price is $218.42\n",
      "\n",
      "Potentially related product:\n",
      "Viking Horns V3305 1.5 Gallon Air Tank & air Compressor Kit, On-Board Air System For Train Air Horn\n",
      "New 1.5 gallon air tank & 150 psi air Compressor kit, air supply system. This kit is designed for use with any high-pressure Air Horns that require an on-board air system. Comes with 1.5 Gallon (6 liter) air tank, heavy duty air compressor, air pressure gauge, air pressure switch, hose and mounting hardware, and fittings. Air Compressor can be removed from air tank for tight space installations (if required), and can be installed along side the air tank. This is truly a great quality product you can count on. Ideal for SUV, Truck, RV, Marine, suspension,\n",
      "Price is $187.87\n",
      "\n",
      "Potentially related product:\n",
      "Viking Horns Loud Train Air Horn Kit\n",
      "Hi-Powered 3 Trumpet Train Air Horn And Compressor/Tank kit. Horn system produces a High Powered Sound of 152 decibels. Trumpets are chrome plated metal. Will replace your original horn, or can be installed as an auxiliary horn. Comes with a 3 gallon air tank and 12 volt 200 PSI heavy duty maintenance free compressor. Includes Mounting Hardware, Brass Fittings, Air Tube, Air Valve, 240 PSI Air gauge, 200 PSI Pressure Switch, installation instructions. Ideal for vehicles such as Truck, RV, SUV. Sound output 152 decibels 12 volt 200 psi H.D air compressor 3 gallon air tank (12 liter) 3 trumpet, metal chrome plated air horn\n",
      "Price is $408.26\n",
      "\n",
      "Potentially related product:\n",
      "Viking Horns | Loud 149 dB | Train Air Horn Kit | Black Three Trumpet Air Horn | 1.5 Gallon Air Tank | 150 PSI Heavy Duty Air Compressor |\n",
      "Loud 149 Decibels Train Sound Air Horn. Entirely made of metal, in black color. Comes with a 1.5 (6 liter) air tank, 150 PSI 12 volt Heavy Duty Air compressor, 240 PSI air pressure gauge, PSI air pressure switch, mounting hardware, hose, fittings, instructions, and a FREE horn button. This horn will produce a loud sound that will surely get anybody's attention around you. Great for SUV's, trucks, RV's, pick-ups, boats, and more applications. Horn trumpets dimensions 12. Air compressor size\n",
      "Price is $279.95\n",
      "\n",
      "And now the question for you:\n",
      "\n",
      "How much does this cost to the nearest dollar?\n",
      "\n",
      "OEM AC Compressor w/A/C Repair Kit For Ford F150 F-150 V8 & Lincoln Mark LT 2007 2008 - BuyAutoParts NEW\n",
      "As one of the world's largest automotive parts suppliers, our parts are trusted every day by mechanics and vehicle owners worldwide. This A/C Compressor and Components Kit is manufactured and tested to the strictest OE standards for unparalleled performance. Built for trouble-free ownership and 100% visually inspected and quality tested, this A/C Compressor and Components Kit is backed by our 100% satisfaction guarantee. Guaranteed Exact Fit for easy installation 100% BRAND NEW, premium ISO/TS 16949 quality - tested to meet or exceed OEM specifications Engineered for superior durability, backed by industry-leading unlimited-mileage warranty Included in this K\n"
     ]
    }
   ],
   "source": [
    "print(messages_for(test[0], documents, prices)[1]['content'])"
   ]
  },
  {
   "cell_type": "code",
   "execution_count": 21,
   "id": "e2bf2c2b",
   "metadata": {},
   "outputs": [],
   "source": [
    "def gpt4o_mini(item):\n",
    "    documents,prices = find_similars(item)\n",
    "    response = openai.chat.completions.create(\n",
    "        model='gpt-4o-mini',\n",
    "        messages=messages_for(item, documents, prices),\n",
    "        seed=42,\n",
    "        max_tokens=5\n",
    "    )\n",
    "    reply = response.choices[0].message.content\n",
    "    return get_price(reply) "
   ]
  },
  {
   "cell_type": "code",
   "execution_count": 24,
   "id": "814f4838",
   "metadata": {},
   "outputs": [
    {
     "data": {
      "text/plain": [
       "328.95"
      ]
     },
     "execution_count": 24,
     "metadata": {},
     "output_type": "execute_result"
    }
   ],
   "source": [
    "gpt4o_mini(test[10])"
   ]
  },
  {
   "cell_type": "code",
   "execution_count": 25,
   "id": "96eaf5ad",
   "metadata": {},
   "outputs": [
    {
     "data": {
      "text/plain": [
       "\"How much does this cost to the nearest dollar?\\n\\nOEM AC Compressor w/A/C Repair Kit For Ford F150 F-150 V8 & Lincoln Mark LT 2007 2008 - BuyAutoParts NEW\\nAs one of the world's largest automotive parts suppliers, our parts are trusted every day by mechanics and vehicle owners worldwide. This A/C Compressor and Components Kit is manufactured and tested to the strictest OE standards for unparalleled performance. Built for trouble-free ownership and 100% visually inspected and quality tested, this A/C Compressor and Components Kit is backed by our 100% satisfaction guarantee. Guaranteed Exact Fit for easy installation 100% BRAND NEW, premium ISO/TS 16949 quality - tested to meet or exceed OEM specifications Engineered for superior durability, backed by industry-leading unlimited-mileage warranty Included in this K\\n\\nPrice is $374.00\""
      ]
     },
     "execution_count": 25,
     "metadata": {},
     "output_type": "execute_result"
    }
   ],
   "source": [
    "test[0].prompt"
   ]
  },
  {
   "cell_type": "code",
   "execution_count": 17,
   "id": "df722587",
   "metadata": {},
   "outputs": [],
   "source": [
    "from agents.frontier_agent import FrontierAgent\n",
    "from agents.ensemble_agent import RandomForestAgent\n",
    "from agents.price_agent import SpecialistAgent\n",
    "import logging"
   ]
  },
  {
   "cell_type": "code",
   "execution_count": 18,
   "id": "5d2a3f9b",
   "metadata": {},
   "outputs": [],
   "source": [
    "root = logging.getLogger()\n",
    "root.setLevel(logging.INFO)"
   ]
  },
  {
   "cell_type": "code",
   "execution_count": 19,
   "id": "a34ec23d",
   "metadata": {},
   "outputs": [
    {
     "name": "stderr",
     "output_type": "stream",
     "text": [
      "INFO:root:\u001b[40m\u001b[34m[Frontier Agent]\u001b[0m\n",
      "INFO:root:\u001b[40m\u001b[34m[Frontier Agent]\u001b[0m\n",
      "INFO:sentence_transformers.SentenceTransformer:Use pytorch device_name: mps\n",
      "INFO:sentence_transformers.SentenceTransformer:Load pretrained SentenceTransformer: sentence-transformers/all-MiniLM-L6-v2\n",
      "INFO:root:\u001b[40m\u001b[34m[Frontier Agent]\u001b[0m\n",
      "INFO:root:\u001b[40m\u001b[37m[SpecialistAgent]\u001b[0m\n",
      "/opt/anaconda3/envs/llms/lib/python3.11/asyncio/events.py:84: DeprecationError: 2025-01-27: `modal.Cls.lookup` is deprecated and will be removed in a future release. It can be replaced with `modal.Cls.from_name`.\n",
      "\n",
      "See https://modal.com/docs/guide/modal-1-0-migration for more information.\n",
      "  self._context.run(self._callback, *self._args)\n",
      "INFO:root:\u001b[40m\u001b[37m[SpecialistAgent]\u001b[0m\n",
      "INFO:root:\u001b[40m\u001b[35m[Random Forest Agent]\u001b[0m\n",
      "INFO:sentence_transformers.SentenceTransformer:Use pytorch device_name: mps\n",
      "INFO:sentence_transformers.SentenceTransformer:Load pretrained SentenceTransformer: sentence-transformers/all-MiniLM-L6-v2\n",
      "INFO:root:\u001b[40m\u001b[35m[Random Forest Agent]\u001b[0m\n"
     ]
    }
   ],
   "source": [
    "frontieragent = FrontierAgent(collection)\n",
    "specialistagent = SpecialistAgent()\n",
    "random_forest = RandomForestAgent()"
   ]
  },
  {
   "cell_type": "code",
   "execution_count": 21,
   "id": "68c286d1",
   "metadata": {},
   "outputs": [],
   "source": [
    "# result = collection.get(include=['embeddings', 'documents', 'metadatas'])\n",
    "# vectors = np.array(result['embeddings'])\n",
    "# documents = result['documents']\n",
    "# prices = [metadata['price'] for metadata in result['metadatas']]\n",
    "\n",
    "# rf = RandomForestRegressor(n_estimators=100, random_state=42, n_jobs=-1)\n",
    "# rf.fit(vectors,prices) "
   ]
  },
  {
   "cell_type": "code",
   "execution_count": 33,
   "id": "dd3ed829",
   "metadata": {},
   "outputs": [
    {
     "data": {
      "text/plain": [
       "['random_forest_model.pkl']"
      ]
     },
     "execution_count": 33,
     "metadata": {},
     "output_type": "execute_result"
    }
   ],
   "source": [
    "joblib.dump(rf, 'random_forest_model.pkl')"
   ]
  },
  {
   "cell_type": "code",
   "execution_count": 22,
   "id": "2445f268",
   "metadata": {},
   "outputs": [
    {
     "name": "stderr",
     "output_type": "stream",
     "text": [
      "INFO:root:\u001b[40m\u001b[37m[SpecialistAgent]\u001b[0m\n",
      "INFO:root:\u001b[40m\u001b[37m[SpecialistAgent]\u001b[0m\n",
      "INFO:root:\u001b[40m\u001b[34m[Frontier Agent]\u001b[0m\n"
     ]
    },
    {
     "name": "stdout",
     "output_type": "stream",
     "text": [
      "189.0\n"
     ]
    },
    {
     "data": {
      "application/vnd.jupyter.widget-view+json": {
       "model_id": "3f0f0043965048a59957073ade52c5a5",
       "version_major": 2,
       "version_minor": 0
      },
      "text/plain": [
       "Batches:   0%|          | 0/1 [00:00<?, ?it/s]"
      ]
     },
     "metadata": {},
     "output_type": "display_data"
    },
    {
     "name": "stderr",
     "output_type": "stream",
     "text": [
      "INFO:root:\u001b[40m\u001b[34m[Frontier Agent]\u001b[0m\n",
      "INFO:root:\u001b[40m\u001b[34m[Frontier Agent]\u001b[0m\n",
      "INFO:httpx:HTTP Request: POST https://api.openai.com/v1/chat/completions \"HTTP/1.1 200 OK\"\n",
      "INFO:root:\u001b[40m\u001b[34m[Frontier Agent]\u001b[0m\n",
      "INFO:root:\u001b[40m\u001b[35m[Random Forest Agent]\u001b[0m\n"
     ]
    },
    {
     "name": "stdout",
     "output_type": "stream",
     "text": [
      "195.19\n"
     ]
    },
    {
     "data": {
      "application/vnd.jupyter.widget-view+json": {
       "model_id": "e127e7bc884848fb803d28ab095d68b1",
       "version_major": 2,
       "version_minor": 0
      },
      "text/plain": [
       "Batches:   0%|          | 0/1 [00:00<?, ?it/s]"
      ]
     },
     "metadata": {},
     "output_type": "display_data"
    },
    {
     "name": "stderr",
     "output_type": "stream",
     "text": [
      "INFO:root:\u001b[40m\u001b[35m[Random Forest Agent]\u001b[0m\n"
     ]
    },
    {
     "data": {
      "application/vnd.jupyter.widget-view+json": {
       "model_id": "08f8089d93a04ebfa96494be54cf0e93",
       "version_major": 2,
       "version_minor": 0
      },
      "text/plain": [
       "Batches:   0%|          | 0/1 [00:00<?, ?it/s]"
      ]
     },
     "metadata": {},
     "output_type": "display_data"
    },
    {
     "name": "stderr",
     "output_type": "stream",
     "text": [
      "INFO:root:\u001b[40m\u001b[35m[Random Forest Agent]\u001b[0m\n"
     ]
    },
    {
     "name": "stdout",
     "output_type": "stream",
     "text": [
      "280.6440000000002\n"
     ]
    }
   ],
   "source": [
    "product = \"Quadcast HyperX condenser mic for high quality audio for podcasting\"\n",
    "\n",
    "\n",
    "print(specialistagent.price(product))\n",
    "print(frontieragent.price(product))\n",
    "print(random_forest.price(product))"
   ]
  },
  {
   "cell_type": "code",
   "execution_count": 25,
   "id": "8b6661bf",
   "metadata": {},
   "outputs": [
    {
     "name": "stderr",
     "output_type": "stream",
     "text": [
      "INFO:root:\u001b[40m\u001b[37m[SpecialistAgent]\u001b[0m\n",
      "INFO:root:\u001b[40m\u001b[34m[Frontier Agent]\u001b[0m\n"
     ]
    },
    {
     "data": {
      "application/vnd.jupyter.widget-view+json": {
       "model_id": "d791ac30333046889199c28e50be50d4",
       "version_major": 2,
       "version_minor": 0
      },
      "text/plain": [
       "Batches:   0%|          | 0/1 [00:00<?, ?it/s]"
      ]
     },
     "metadata": {},
     "output_type": "display_data"
    },
    {
     "name": "stderr",
     "output_type": "stream",
     "text": [
      "INFO:root:\u001b[40m\u001b[34m[Frontier Agent]\u001b[0m\n",
      "INFO:root:\u001b[40m\u001b[34m[Frontier Agent]\u001b[0m\n",
      "INFO:httpx:HTTP Request: POST https://api.openai.com/v1/chat/completions \"HTTP/1.1 200 OK\"\n",
      "INFO:root:\u001b[40m\u001b[34m[Frontier Agent]\u001b[0m\n",
      "INFO:root:\u001b[40m\u001b[35m[Random Forest Agent]\u001b[0m\n"
     ]
    },
    {
     "data": {
      "application/vnd.jupyter.widget-view+json": {
       "model_id": "034f322fa1e246c8b25f7bd1081866fd",
       "version_major": 2,
       "version_minor": 0
      },
      "text/plain": [
       "Batches:   0%|          | 0/1 [00:00<?, ?it/s]"
      ]
     },
     "metadata": {},
     "output_type": "display_data"
    },
    {
     "name": "stderr",
     "output_type": "stream",
     "text": [
      "INFO:root:\u001b[40m\u001b[35m[Random Forest Agent]\u001b[0m\n"
     ]
    },
    {
     "data": {
      "application/vnd.jupyter.widget-view+json": {
       "model_id": "8ff6ef6763fb41b2939e6546806b0ef4",
       "version_major": 2,
       "version_minor": 0
      },
      "text/plain": [
       "Batches:   0%|          | 0/1 [00:00<?, ?it/s]"
      ]
     },
     "metadata": {},
     "output_type": "display_data"
    },
    {
     "name": "stderr",
     "output_type": "stream",
     "text": [
      "INFO:root:\u001b[40m\u001b[35m[Random Forest Agent]\u001b[0m\n",
      "100%|█████████▉| 249/250 [10:41<00:02,  2.69s/it]INFO:root:\u001b[40m\u001b[37m[SpecialistAgent]\u001b[0m\n",
      "INFO:root:\u001b[40m\u001b[37m[SpecialistAgent]\u001b[0m\n",
      "INFO:root:\u001b[40m\u001b[34m[Frontier Agent]\u001b[0m\n"
     ]
    },
    {
     "data": {
      "application/vnd.jupyter.widget-view+json": {
       "model_id": "65fecdb3ac2b409891788dc1d22568ab",
       "version_major": 2,
       "version_minor": 0
      },
      "text/plain": [
       "Batches:   0%|          | 0/1 [00:00<?, ?it/s]"
      ]
     },
     "metadata": {},
     "output_type": "display_data"
    },
    {
     "name": "stderr",
     "output_type": "stream",
     "text": [
      "INFO:root:\u001b[40m\u001b[34m[Frontier Agent]\u001b[0m\n",
      "INFO:root:\u001b[40m\u001b[34m[Frontier Agent]\u001b[0m\n",
      "INFO:httpx:HTTP Request: POST https://api.openai.com/v1/chat/completions \"HTTP/1.1 200 OK\"\n",
      "INFO:root:\u001b[40m\u001b[34m[Frontier Agent]\u001b[0m\n",
      "INFO:root:\u001b[40m\u001b[35m[Random Forest Agent]\u001b[0m\n"
     ]
    },
    {
     "data": {
      "application/vnd.jupyter.widget-view+json": {
       "model_id": "539e60d0003141adb2e23b44c99a1ca3",
       "version_major": 2,
       "version_minor": 0
      },
      "text/plain": [
       "Batches:   0%|          | 0/1 [00:00<?, ?it/s]"
      ]
     },
     "metadata": {},
     "output_type": "display_data"
    },
    {
     "name": "stderr",
     "output_type": "stream",
     "text": [
      "INFO:root:\u001b[40m\u001b[35m[Random Forest Agent]\u001b[0m\n"
     ]
    },
    {
     "data": {
      "application/vnd.jupyter.widget-view+json": {
       "model_id": "62ab03e9bf9b40dcbb121a3c7612c3fb",
       "version_major": 2,
       "version_minor": 0
      },
      "text/plain": [
       "Batches:   0%|          | 0/1 [00:00<?, ?it/s]"
      ]
     },
     "metadata": {},
     "output_type": "display_data"
    },
    {
     "name": "stderr",
     "output_type": "stream",
     "text": [
      "INFO:root:\u001b[40m\u001b[35m[Random Forest Agent]\u001b[0m\n",
      "100%|██████████| 250/250 [10:43<00:00,  2.58s/it]"
     ]
    },
    {
     "name": "stdout",
     "output_type": "stream",
     "text": [
      "Specialist: 0.62\n",
      "Frontier: 0.39\n",
      "RandomForest: -0.11\n",
      "Min: 0.04\n",
      "Max: 0.03\n",
      "Intercept=26.65\n"
     ]
    },
    {
     "name": "stderr",
     "output_type": "stream",
     "text": [
      "\n"
     ]
    },
    {
     "data": {
      "text/plain": [
       "['ensemble_model.pkl']"
      ]
     },
     "execution_count": 25,
     "metadata": {},
     "output_type": "execute_result"
    }
   ],
   "source": [
    "specialists = []\n",
    "frontiers = []\n",
    "random_forests = []\n",
    "prices = []\n",
    "for item in tqdm(test[1000:1250]):\n",
    "    text = description(item)\n",
    "    specialists.append(specialistagent.price(text))\n",
    "    frontiers.append(frontieragent.price(text))\n",
    "    random_forests.append(random_forest.price(text))\n",
    "    prices.append(item.price)\n",
    "mins = [min(s,f,r) for s,f,r in zip(specialists, frontiers, random_forests)]\n",
    "maxes = [max(s,f,r) for s,f,r in zip(specialists, frontiers, random_forests)]\n",
    "\n",
    "X = pd.DataFrame({\n",
    "    'Specialist': specialists,\n",
    "    'Frontier': frontiers,\n",
    "    'RandomForest': random_forests,\n",
    "    'Min': mins,\n",
    "    'Max': maxes,\n",
    "})\n",
    "\n",
    "# Convert y to a Series\n",
    "y = pd.Series(prices)\n",
    "# Train a Linear Regression\n",
    "np.random.seed(42)\n",
    "\n",
    "lr = LinearRegression()\n",
    "lr.fit(X, y)\n",
    "\n",
    "feature_columns = X.columns.tolist()\n",
    "\n",
    "for feature, coef in zip(feature_columns, lr.coef_):\n",
    "    print(f\"{feature}: {coef:.2f}\")\n",
    "print(f\"Intercept={lr.intercept_:.2f}\")\n",
    "joblib.dump(lr, 'ensemble_model.pkl')"
   ]
  },
  {
   "cell_type": "code",
   "execution_count": 26,
   "id": "985fd1d0",
   "metadata": {},
   "outputs": [
    {
     "name": "stderr",
     "output_type": "stream",
     "text": [
      "INFO:root:\u001b[40m\u001b[33m[Ensemble Agent]\u001b[0m\n",
      "INFO:root:\u001b[40m\u001b[37m[SpecialistAgent]\u001b[0m\n",
      "/opt/anaconda3/envs/llms/lib/python3.11/asyncio/events.py:84: DeprecationError: 2025-01-27: `modal.Cls.lookup` is deprecated and will be removed in a future release. It can be replaced with `modal.Cls.from_name`.\n",
      "\n",
      "See https://modal.com/docs/guide/modal-1-0-migration for more information.\n",
      "  self._context.run(self._callback, *self._args)\n",
      "INFO:root:\u001b[40m\u001b[37m[SpecialistAgent]\u001b[0m\n",
      "INFO:root:\u001b[40m\u001b[34m[Frontier Agent]\u001b[0m\n",
      "INFO:root:\u001b[40m\u001b[34m[Frontier Agent]\u001b[0m\n",
      "INFO:sentence_transformers.SentenceTransformer:Use pytorch device_name: mps\n",
      "INFO:sentence_transformers.SentenceTransformer:Load pretrained SentenceTransformer: sentence-transformers/all-MiniLM-L6-v2\n",
      "INFO:root:\u001b[40m\u001b[34m[Frontier Agent]\u001b[0m\n",
      "INFO:root:\u001b[40m\u001b[35m[Random Forest Agent]\u001b[0m\n",
      "INFO:sentence_transformers.SentenceTransformer:Use pytorch device_name: mps\n",
      "INFO:sentence_transformers.SentenceTransformer:Load pretrained SentenceTransformer: sentence-transformers/all-MiniLM-L6-v2\n",
      "INFO:root:\u001b[40m\u001b[35m[Random Forest Agent]\u001b[0m\n",
      "INFO:root:\u001b[40m\u001b[33m[Ensemble Agent]\u001b[0m\n",
      "INFO:root:\u001b[40m\u001b[33m[Ensemble Agent]\u001b[0m\n",
      "INFO:root:\u001b[40m\u001b[37m[SpecialistAgent]\u001b[0m\n",
      "INFO:root:\u001b[40m\u001b[37m[SpecialistAgent]\u001b[0m\n",
      "INFO:root:\u001b[40m\u001b[34m[Frontier Agent]\u001b[0m\n"
     ]
    },
    {
     "data": {
      "application/vnd.jupyter.widget-view+json": {
       "model_id": "8cc0ba21abb54126993a7bd4f8e13636",
       "version_major": 2,
       "version_minor": 0
      },
      "text/plain": [
       "Batches:   0%|          | 0/1 [00:00<?, ?it/s]"
      ]
     },
     "metadata": {},
     "output_type": "display_data"
    },
    {
     "name": "stderr",
     "output_type": "stream",
     "text": [
      "INFO:root:\u001b[40m\u001b[34m[Frontier Agent]\u001b[0m\n",
      "INFO:root:\u001b[40m\u001b[34m[Frontier Agent]\u001b[0m\n",
      "INFO:httpx:HTTP Request: POST https://api.openai.com/v1/chat/completions \"HTTP/1.1 200 OK\"\n",
      "INFO:root:\u001b[40m\u001b[34m[Frontier Agent]\u001b[0m\n",
      "INFO:root:\u001b[40m\u001b[35m[Random Forest Agent]\u001b[0m\n"
     ]
    },
    {
     "data": {
      "application/vnd.jupyter.widget-view+json": {
       "model_id": "c5a75e4e1f5d4236add7dbf242dce8d7",
       "version_major": 2,
       "version_minor": 0
      },
      "text/plain": [
       "Batches:   0%|          | 0/1 [00:00<?, ?it/s]"
      ]
     },
     "metadata": {},
     "output_type": "display_data"
    },
    {
     "name": "stderr",
     "output_type": "stream",
     "text": [
      "INFO:root:\u001b[40m\u001b[35m[Random Forest Agent]\u001b[0m\n"
     ]
    },
    {
     "data": {
      "application/vnd.jupyter.widget-view+json": {
       "model_id": "2a5a204cf00f40899aa9bfdb458d0b89",
       "version_major": 2,
       "version_minor": 0
      },
      "text/plain": [
       "Batches:   0%|          | 0/1 [00:00<?, ?it/s]"
      ]
     },
     "metadata": {},
     "output_type": "display_data"
    },
    {
     "name": "stderr",
     "output_type": "stream",
     "text": [
      "INFO:root:\u001b[40m\u001b[35m[Random Forest Agent]\u001b[0m\n",
      "INFO:root:\u001b[40m\u001b[33m[Ensemble Agent]\u001b[0m\n"
     ]
    },
    {
     "data": {
      "text/plain": [
       "205.0205173065032"
      ]
     },
     "execution_count": 26,
     "metadata": {},
     "output_type": "execute_result"
    }
   ],
   "source": [
    "from agents.ensemble_agent import EnsembleAgent\n",
    "ensemble = EnsembleAgent(collection)\n",
    "product = \"Quadcast HyperX condenser mic for high quality audio for podcasting\"\n",
    "\n",
    "ensemble.price(product)\n"
   ]
  },
  {
   "cell_type": "code",
   "execution_count": null,
   "id": "3af5c151",
   "metadata": {},
   "outputs": [],
   "source": []
  }
 ],
 "metadata": {
  "kernelspec": {
   "display_name": "llms",
   "language": "python",
   "name": "python3"
  },
  "language_info": {
   "codemirror_mode": {
    "name": "ipython",
    "version": 3
   },
   "file_extension": ".py",
   "mimetype": "text/x-python",
   "name": "python",
   "nbconvert_exporter": "python",
   "pygments_lexer": "ipython3",
   "version": "3.11.11"
  }
 },
 "nbformat": 4,
 "nbformat_minor": 5
}
